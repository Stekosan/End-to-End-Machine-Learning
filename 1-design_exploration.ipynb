{
 "cells": [
  {
   "cell_type": "code",
   "execution_count": 1,
   "metadata": {},
   "outputs": [],
   "source": [
    "import pandas as pd\n",
    "import numpy as np\n",
    "import matplotlib.pyplot as plt\n",
    "import seaborn as sns\n"
   ]
  },
  {
   "cell_type": "code",
   "execution_count": 2,
   "metadata": {},
   "outputs": [],
   "source": [
    "heart_disease_df = pd.read_csv(r'C:\\Users\\Steve\\OneDrive\\Documents\\GitHub\\End-to-End-Machine-Learning\\End-to-End-Machine-Learning\\data\\heart_disease_df_1.csv')"
   ]
  },
  {
   "cell_type": "code",
   "execution_count": 3,
   "metadata": {},
   "outputs": [
    {
     "name": "stdout",
     "output_type": "stream",
     "text": [
      "   age  sex   cp  trestbps   chol  fbs  restecg  thalach  exang  oldpeak  \\\n",
      "0   52    1  0.0       125  212.0    0      1.0      168      0      NaN   \n",
      "1   53    1  0.0       140  203.0    1      0.0      155      1      NaN   \n",
      "2   70    1  0.0       145  174.0    0      1.0      125      1      NaN   \n",
      "3   61    1  0.0       148  203.0    0      1.0      161      0      NaN   \n",
      "4   62    0  0.0       138  294.0    1      1.0      106      0      NaN   \n",
      "\n",
      "   slope  ca  thal  target  \n",
      "0      2   2     3       0  \n",
      "1      0   0     3       0  \n",
      "2      0   0     3       0  \n",
      "3      2   1     3       0  \n",
      "4      1   3     2       0  \n",
      "<class 'pandas.core.frame.DataFrame'>\n",
      "RangeIndex: 1076 entries, 0 to 1075\n",
      "Data columns (total 14 columns):\n",
      " #   Column    Non-Null Count  Dtype  \n",
      "---  ------    --------------  -----  \n",
      " 0   age       1076 non-null   int64  \n",
      " 1   sex       1076 non-null   int64  \n",
      " 2   cp        1023 non-null   float64\n",
      " 3   trestbps  1076 non-null   int64  \n",
      " 4   chol      1021 non-null   float64\n",
      " 5   fbs       1076 non-null   int64  \n",
      " 6   restecg   1028 non-null   float64\n",
      " 7   thalach   1076 non-null   int64  \n",
      " 8   exang     1076 non-null   int64  \n",
      " 9   oldpeak   0 non-null      float64\n",
      " 10  slope     1076 non-null   int64  \n",
      " 11  ca        1076 non-null   int64  \n",
      " 12  thal      1076 non-null   int64  \n",
      " 13  target    1076 non-null   int64  \n",
      "dtypes: float64(4), int64(10)\n",
      "memory usage: 117.8 KB\n",
      "None\n"
     ]
    }
   ],
   "source": [
    "# Print the first 5 rows of the DataFrame\n",
    "print(heart_disease_df.head())\n",
    "\n",
    "# Print information about the DataFrame\n",
    "print(heart_disease_df.info())"
   ]
  }
 ],
 "metadata": {
  "kernelspec": {
   "display_name": "Python 3",
   "language": "python",
   "name": "python3"
  },
  "language_info": {
   "codemirror_mode": {
    "name": "ipython",
    "version": 3
   },
   "file_extension": ".py",
   "mimetype": "text/x-python",
   "name": "python",
   "nbconvert_exporter": "python",
   "pygments_lexer": "ipython3",
   "version": "3.12.3"
  }
 },
 "nbformat": 4,
 "nbformat_minor": 2
}
