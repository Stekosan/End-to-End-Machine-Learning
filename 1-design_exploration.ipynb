{
 "cells": [
  {
   "cell_type": "markdown",
   "metadata": {},
   "source": [
    "# import packages"
   ]
  },
  {
   "cell_type": "code",
   "execution_count": 1,
   "metadata": {},
   "outputs": [],
   "source": [
    "import pandas as pd\n",
    "import numpy as np\n",
    "import matplotlib.pyplot as plt\n",
    "import seaborn as sns"
   ]
  },
  {
   "cell_type": "markdown",
   "metadata": {},
   "source": [
    "# import Data"
   ]
  },
  {
   "cell_type": "code",
   "execution_count": 2,
   "metadata": {},
   "outputs": [],
   "source": [
    "heart_disease_df = pd.read_csv(r'C:\\Users\\Steve\\OneDrive\\Documents\\GitHub\\End-to-End-Machine-Learning\\End-to-End-Machine-Learning\\data\\heart_disease_df_1.csv')"
   ]
  },
  {
   "cell_type": "code",
   "execution_count": 3,
   "metadata": {},
   "outputs": [
    {
     "name": "stdout",
     "output_type": "stream",
     "text": [
      "   age  sex   cp  trestbps   chol  fbs  restecg  thalach  exang  oldpeak  \\\n",
      "0   52    1  0.0       125  212.0    0      1.0      168      0      NaN   \n",
      "1   53    1  0.0       140  203.0    1      0.0      155      1      NaN   \n",
      "2   70    1  0.0       145  174.0    0      1.0      125      1      NaN   \n",
      "3   61    1  0.0       148  203.0    0      1.0      161      0      NaN   \n",
      "4   62    0  0.0       138  294.0    1      1.0      106      0      NaN   \n",
      "\n",
      "   slope  ca  thal  target  \n",
      "0      2   2     3       0  \n",
      "1      0   0     3       0  \n",
      "2      0   0     3       0  \n",
      "3      2   1     3       0  \n",
      "4      1   3     2       0  \n",
      "<class 'pandas.core.frame.DataFrame'>\n",
      "RangeIndex: 1076 entries, 0 to 1075\n",
      "Data columns (total 14 columns):\n",
      " #   Column    Non-Null Count  Dtype  \n",
      "---  ------    --------------  -----  \n",
      " 0   age       1076 non-null   int64  \n",
      " 1   sex       1076 non-null   int64  \n",
      " 2   cp        1023 non-null   float64\n",
      " 3   trestbps  1076 non-null   int64  \n",
      " 4   chol      1021 non-null   float64\n",
      " 5   fbs       1076 non-null   int64  \n",
      " 6   restecg   1028 non-null   float64\n",
      " 7   thalach   1076 non-null   int64  \n",
      " 8   exang     1076 non-null   int64  \n",
      " 9   oldpeak   0 non-null      float64\n",
      " 10  slope     1076 non-null   int64  \n",
      " 11  ca        1076 non-null   int64  \n",
      " 12  thal      1076 non-null   int64  \n",
      " 13  target    1076 non-null   int64  \n",
      "dtypes: float64(4), int64(10)\n",
      "memory usage: 117.8 KB\n",
      "None\n"
     ]
    }
   ],
   "source": [
    "# Print the first 5 rows of the DataFrame\n",
    "print(heart_disease_df.head())\n",
    "\n",
    "# Print information about the DataFrame\n",
    "print(heart_disease_df.info())"
   ]
  },
  {
   "cell_type": "markdown",
   "metadata": {},
   "source": [
    "# Design and Exploration\n",
    "In this initial chapter,you will engage in the foundational stages of any machine learning project: designing an end-to-end machine learning use case, exploratory data analysis, and data preparation. By the end of the chapter, you will have a solid understanding of the early stages of a machine learning project, from conceptualizing a use case to preparing the data for further processing and model training."
   ]
  },
  {
   "cell_type": "markdown",
   "metadata": {},
   "source": [
    "# check missing values, duplicates, unique values"
   ]
  },
  {
   "cell_type": "code",
   "execution_count": 16,
   "metadata": {},
   "outputs": [
    {
     "name": "stdout",
     "output_type": "stream",
     "text": [
      "age            0\n",
      "sex            0\n",
      "cp            53\n",
      "trestbps       0\n",
      "chol          55\n",
      "fbs            0\n",
      "restecg       48\n",
      "thalach        0\n",
      "exang          0\n",
      "oldpeak     1076\n",
      "slope          0\n",
      "ca             0\n",
      "thal           0\n",
      "target         0\n",
      "dtype: int64\n"
     ]
    }
   ],
   "source": [
    "# check for missing values\n",
    "print(heart_disease_df.isnull().sum())"
   ]
  },
  {
   "cell_type": "code",
   "execution_count": 17,
   "metadata": {},
   "outputs": [
    {
     "name": "stdout",
     "output_type": "stream",
     "text": [
      "638\n"
     ]
    }
   ],
   "source": [
    "# check for duplicates\n",
    "print(heart_disease_df.duplicated().sum())"
   ]
  },
  {
   "cell_type": "code",
   "execution_count": 19,
   "metadata": {},
   "outputs": [
    {
     "name": "stdout",
     "output_type": "stream",
     "text": [
      "age          41\n",
      "sex           2\n",
      "cp            4\n",
      "trestbps     49\n",
      "chol        152\n",
      "fbs           2\n",
      "restecg       3\n",
      "thalach      91\n",
      "exang         2\n",
      "oldpeak       0\n",
      "slope         3\n",
      "ca            5\n",
      "thal          4\n",
      "target        2\n",
      "dtype: int64\n"
     ]
    }
   ],
   "source": [
    "#check for unique values\n",
    "print(heart_disease_df.nunique())"
   ]
  },
  {
   "cell_type": "markdown",
   "metadata": {},
   "source": [
    "# visualization"
   ]
  },
  {
   "cell_type": "code",
   "execution_count": 12,
   "metadata": {},
   "outputs": [
    {
     "data": {
      "image/png": "[encoded data removed]",
      "text/plain": [
       "<Figure size 640x480 with 1 Axes>"
      ]
     },
     "metadata": {},
     "output_type": "display_data"
    }
   ],
   "source": [
    "# Visualize the cholestrol column\n",
    "heart_disease_df['chol'].plot(kind='hist')\n",
    "\n",
    "# set theme\n",
    "\n",
    "# Set the title and axis labels\n",
    "plt.title('Cholestrol distribution')\n",
    "plt.xlabel('Cholestrol')\n",
    "plt.ylabel('Frequency')\n",
    "plt.show()\n",
    "\n"
   ]
  },
  {
   "cell_type": "code",
   "execution_count": 13,
   "metadata": {},
   "outputs": [
    {
     "name": "stdout",
     "output_type": "stream",
     "text": [
      "sex\n",
      "1    743\n",
      "0    333\n",
      "Name: count, dtype: int64\n"
     ]
    }
   ],
   "source": [
    "# Print the sex value counts of the heart disease dataset (imbalance)\n",
    "print(heart_disease_df['sex'].value_counts())"
   ]
  },
  {
   "cell_type": "markdown",
   "metadata": {},
   "source": [
    "fillna() fill missing , null or empty value in a DataFrame\n",
    "drop_duplicates() Remove DataFrame rows or columns\n",
    "value_counts() Count the frequence of items in a column (bias, imbalance)\n",
    "drop() Remove repeated rows in DataFrame"
   ]
  },
  {
   "cell_type": "markdown",
   "metadata": {},
   "source": [
    "# Imputation"
   ]
  },
  {
   "cell_type": "code",
   "execution_count": 15,
   "metadata": {},
   "outputs": [],
   "source": [
    "from sklearn.impute import KNNImputer"
   ]
  },
  {
   "cell_type": "code",
   "execution_count": null,
   "metadata": {},
   "outputs": [],
   "source": [
    "def impute_missing_values(df):\n",
    "\n",
    "\t#initialized KNNImputer\n",
    "\timputer = KNNImputer(n_neighbors = 2, weights=\"uniform\")\n",
    "\n",
    "\t#perform the imputation on your dataFrame\n",
    "\t#df_imputed['oldpeak'] = imputer.fit_transform(df['oldpeak'] # only 1 column\n",
    "\tdf_imputed = imputer.fit_transform(df) # all columns\n",
    "\t\n",
    "\treturn df_imputed"
   ]
  },
  {
   "cell_type": "code",
   "execution_count": 22,
   "metadata": {},
   "outputs": [],
   "source": [
    "# Drop empty columns\n",
    "heart_disease_column_dropped = heart_disease_df.drop(['oldpeak'], axis=1)\n",
    "\n",
    "# Drop duplicate rows\n",
    "heart_disease_duplicates_dropped = heart_disease_column_dropped.drop_duplicates()"
   ]
  },
  {
   "cell_type": "code",
   "execution_count": 23,
   "metadata": {},
   "outputs": [],
   "source": [
    "# Calculate the mean value of the restecg column\n",
    "mean_value = heart_disease_duplicates_dropped['restecg'].mean()"
   ]
  },
  {
   "cell_type": "markdown",
   "metadata": {},
   "source": [
    "## To address the warning and ensure compatibility with future versions of pandas, you should avoid using chained assignment with inplace=True. Instead, assign the result back to the column directly. Here's how you can modify your code"
   ]
  },
  {
   "cell_type": "code",
   "execution_count": 26,
   "metadata": {},
   "outputs": [
    {
     "name": "stderr",
     "output_type": "stream",
     "text": [
      "C:\\Users\\Steve\\AppData\\Local\\Temp\\ipykernel_68884\\837466870.py:2: FutureWarning: A value is trying to be set on a copy of a DataFrame or Series through chained assignment using an inplace method.\n",
      "The behavior will change in pandas 3.0. This inplace method will never work because the intermediate object on which we are setting values always behaves as a copy.\n",
      "\n",
      "For example, when doing 'df[col].method(value, inplace=True)', try using 'df.method({col: value}, inplace=True)' or df[col] = df[col].method(value) instead, to perform the operation inplace on the original object.\n",
      "\n",
      "\n",
      "  heart_disease_duplicates_dropped['restecg'].fillna(mean_value, inplace=True)\n",
      "C:\\Users\\Steve\\AppData\\Local\\Temp\\ipykernel_68884\\837466870.py:2: SettingWithCopyWarning: \n",
      "A value is trying to be set on a copy of a slice from a DataFrame\n",
      "\n",
      "See the caveats in the documentation: https://pandas.pydata.org/pandas-docs/stable/user_guide/indexing.html#returning-a-view-versus-a-copy\n",
      "  heart_disease_duplicates_dropped['restecg'].fillna(mean_value, inplace=True)\n"
     ]
    }
   ],
   "source": [
    "# Impute missing values with the mean\n",
    "heart_disease_duplicates_dropped['restecg'].fillna(mean_value, inplace=True) "
   ]
  },
  {
   "cell_type": "markdown",
   "metadata": {},
   "source": [
    "## This approach directly assigns the result of fillna back to the restecg column, avoiding the use of inplace=True and adhering to the recommended practice to ensure compatibility with future versions of pandas."
   ]
  },
  {
   "cell_type": "code",
   "execution_count": 27,
   "metadata": {},
   "outputs": [
    {
     "name": "stderr",
     "output_type": "stream",
     "text": [
      "C:\\Users\\Steve\\AppData\\Local\\Temp\\ipykernel_68884\\1425102666.py:2: SettingWithCopyWarning: \n",
      "A value is trying to be set on a copy of a slice from a DataFrame.\n",
      "Try using .loc[row_indexer,col_indexer] = value instead\n",
      "\n",
      "See the caveats in the documentation: https://pandas.pydata.org/pandas-docs/stable/user_guide/indexing.html#returning-a-view-versus-a-copy\n",
      "  heart_disease_duplicates_dropped['restecg'] = heart_disease_duplicates_dropped['restecg'].fillna(mean_value)\n"
     ]
    }
   ],
   "source": [
    "# Fill NA/NaN values in the 'restecg' column with the mean value\n",
    "heart_disease_duplicates_dropped['restecg'] = heart_disease_duplicates_dropped['restecg'].fillna(mean_value)"
   ]
  },
  {
   "cell_type": "markdown",
   "metadata": {},
   "source": [
    "## This approach makes it clear that you intend to modify the 'restecg' column for all rows in heart_disease_duplicates_dropped, potentially avoiding the SettingWithCopyWarning.\n",
    "The warning indicates that heart_disease_duplicates_dropped might be a slice of another DataFrame, and when you try to modify it directly, pandas is unsure if it should modify the original DataFrame or just the slice. To ensure that your operation affects the intended DataFrame without ambiguity, use .loc to explicitly state that you're modifying a specific column for all rows. Here's how you can adjust your code:"
   ]
  },
  {
   "cell_type": "code",
   "execution_count": 32,
   "metadata": {},
   "outputs": [],
   "source": [
    "# Use .loc to ensure the operation is performed directly on the DataFrame\n",
    "heart_disease_duplicates_dropped.loc[:, 'restecg'] = heart_disease_duplicates_dropped['restecg'].fillna(mean_value)"
   ]
  },
  {
   "cell_type": "code",
   "execution_count": 33,
   "metadata": {},
   "outputs": [
    {
     "name": "stdout",
     "output_type": "stream",
     "text": [
      "False\n"
     ]
    }
   ],
   "source": [
    "print(heart_disease_duplicates_dropped['restecg'].isna().any())"
   ]
  },
  {
   "cell_type": "markdown",
   "metadata": {},
   "source": [
    "# Model Training and Evaluation\n",
    "This chapter will delve deep into the essential processes of model training and evaluation. It comprises four comprehensive lessons, focusing on various aspects of feature engineering, model training, logging experiments, and model evaluation."
   ]
  },
  {
   "cell_type": "markdown",
   "metadata": {},
   "source": [
    "## 1. Feature engineering and selection\n",
    "Welcome back. Today, we will learn how to handle feature engineering and selection, a crucial step in the ML pipeline. Feature engineering builds upon data preparation; some data preparation steps overlap with feature engineering steps.\n",
    "\n",
    "## 2. Feature engineering\n",
    "Feature engineering is the process of creating features that enhance the performance of ML models. `Feature engineering techniques allow ML engineers to modify preexisting features, as well as design completely new ones, enabling the selection of a simpler model. This can lead to easier deployment and maintenance, faster training times, interpretability gain, and in some cases, improved model performance.` Remember, more isn't always better; it's about selecting the right features that capture the essential aspects of our data.\n",
    "\n",
    "## 3. Normalization\n",
    "One common feature engineering technique is normalization. Normalization scales numeric features to a scale of 0 to 1, ensuring that no particular feature can dominate the model due to its scale. This is beneficial when features have different ranges and you use algorithms sensitive to the inputs' scale like K-Nearest Neighbors (KNN) or Neural Networks. We can use the **sklearn.preprocessing.Normalizer** function for normalization. We first create a normalizer object and then pass our DataFrame as an argument, returning the normalized DataFrame.\n",
    "\n",
    "\n",
    "## 4. Standardization\n",
    "Another common feature engineering technique is standardization. Standardization scales features to have a mean of zero and a variance of one. **Standardization benefits algorithms that assume features are centered around zero and have variance in the same order**, like in Support Vector Machines (SVMs) and Linear Regression. We can use the **sklearn.preprocessing.StandardScaler** function for standardization. Similarly to normalization, we create a standard scaler object, pass our heart disease DataFrame as an argument, and get a standardized version of the data back.\n",
    "\n",
    "## 5. What constitutes a good feature?\n",
    "In order to improve our prediction accuracy, we need to use relevant features for modeling. It also doesn't help to use multiple features which represent similar metrics. For our heart disease dataset, it wouldn't be beneficial to include a feature like the weather on the day of appointment; this should have no bearing on the diagnosis. Furthermore, it isn't helpful to include both age in years and age in months as features, as both measures capture similar things. In this way, we can visualize dissimilar features as being perpendicular, or orthogonal to each other.\n",
    "\n",
    "## 6. sklearn.feature_selection\n",
    "A popular feature selection tool is sklearn's feature_selection. Feature_selection offers a robust toolbox that helps select significant, non-redundant features in our dataset. We need to split our data beforehand to avoid data leakage, ensuring that the model is not exposed to the test data during feature selection.\n",
    "\n",
    "## 7. sklearn.feature_selection (cont.)\n",
    "Sklearn-dot-feature_selection-dot-SelectFromModel is one helpful method for feature selection. We can use a Random Forest classifier as the underlying model to estimate the importance of each feature. The Random Forest model eliminates features considered irrelevant until it can no longer improve its target variable predictions. Prefit equals true tells SelectFromModel that the model has already been fitted. When constructing our Random Forest classifier, the parameters n_jobs equals -1 allows us to use all available processors on our machine, class_weight balances class frequencies, and max_depth limits the tree's depth to five. We use the dot-fit function to get critical features. In this scenario, heart_disease_x represents our features, while heart_disease_y signifies our target. Both need to be provided because the Random Forest classifier calculates feature importance based on the capability of the features x to predict the target y. The model-dot-get_support function returns a Boolean array that indicates which features are considered essential and which are not.\n",
    "\n",
    "## 8. Let's practice!\n",
    "Feature engineering and selection are vital steps in the ML pipeline. Correctly applying these techniques can simplify your model and boost its performance predicting heart disease. Now, it's time to showcase your new skills. Happy coding!"
   ]
  },
  {
   "cell_type": "markdown",
   "metadata": {},
   "source": [
    "# exercice 2"
   ]
  },
  {
   "cell_type": "code",
   "execution_count": 34,
   "metadata": {},
   "outputs": [
    {
     "name": "stdout",
     "output_type": "stream",
     "text": [
      "<class 'pandas.core.frame.DataFrame'>\n",
      "Index: 438 entries, 0 to 1015\n",
      "Data columns (total 13 columns):\n",
      " #   Column    Non-Null Count  Dtype  \n",
      "---  ------    --------------  -----  \n",
      " 0   age       438 non-null    int64  \n",
      " 1   sex       438 non-null    int64  \n",
      " 2   cp        389 non-null    float64\n",
      " 3   trestbps  438 non-null    int64  \n",
      " 4   chol      389 non-null    float64\n",
      " 5   fbs       438 non-null    int64  \n",
      " 6   restecg   438 non-null    float64\n",
      " 7   thalach   438 non-null    int64  \n",
      " 8   exang     438 non-null    int64  \n",
      " 9   slope     438 non-null    int64  \n",
      " 10  ca        438 non-null    int64  \n",
      " 11  thal      438 non-null    int64  \n",
      " 12  target    438 non-null    int64  \n",
      "dtypes: float64(3), int64(10)\n",
      "memory usage: 47.9 KB\n"
     ]
    }
   ],
   "source": [
    "heart_disease_duplicates_dropped.info()"
   ]
  },
  {
   "cell_type": "code",
   "execution_count": 35,
   "metadata": {},
   "outputs": [
    {
     "name": "stdout",
     "output_type": "stream",
     "text": [
      "age          0\n",
      "sex          0\n",
      "cp          49\n",
      "trestbps     0\n",
      "chol        49\n",
      "fbs          0\n",
      "restecg      0\n",
      "thalach      0\n",
      "exang        0\n",
      "slope        0\n",
      "ca           0\n",
      "thal         0\n",
      "target       0\n",
      "dtype: int64\n"
     ]
    }
   ],
   "source": [
    "# null values in the DataFrame\n",
    "print(heart_disease_duplicates_dropped.isnull().sum())"
   ]
  },
  {
   "cell_type": "markdown",
   "metadata": {},
   "source": [
    "we 2 more feature with null values, we must perform the same imputing with mean values or using the KNNimputer (to be done lately)"
   ]
  },
  {
   "cell_type": "code",
   "execution_count": 37,
   "metadata": {},
   "outputs": [],
   "source": [
    "# Calculate the mean value of the cp and chol columns\n",
    "mean_value_cp = heart_disease_duplicates_dropped['cp'].mean()\n",
    "mean_value_chol = heart_disease_duplicates_dropped['chol'].mean()"
   ]
  },
  {
   "cell_type": "code",
   "execution_count": 38,
   "metadata": {},
   "outputs": [],
   "source": [
    "heart_disease_duplicates_dropped.loc[:, 'cp'] = heart_disease_duplicates_dropped['cp'].fillna(mean_value)\n",
    "heart_disease_duplicates_dropped.loc[:, 'chol'] = heart_disease_duplicates_dropped['chol'].fillna(mean_value)"
   ]
  },
  {
   "cell_type": "code",
   "execution_count": 39,
   "metadata": {},
   "outputs": [],
   "source": [
    "# Normalize the data\n",
    "from sklearn.model_selection import train_test_split\n",
    "from sklearn.preprocessing import Normalizer\n",
    "\n",
    "# Split the data\n",
    "X_train, X_test = train_test_split(heart_disease_duplicates_dropped, test_size=0.2, random_state=42)\n",
    "\n",
    "# Create normalizer object, fit on training data, normalize, and transform test set\n",
    "norm = Normalizer()\n",
    "X_train_norm = norm.fit_transform(X_train)\n",
    "x_test_norm = norm.transform(X_test)"
   ]
  },
  {
   "cell_type": "code",
   "execution_count": 40,
   "metadata": {},
   "outputs": [],
   "source": [
    "# standardization\n",
    "from sklearn.preprocessing import StandardScaler\n",
    "\n",
    "# Split the data\n",
    "X_train, X_test = train_test_split(heart_disease_duplicates_dropped, test_size=0.2, random_state=42)\n",
    "\n",
    "# Create standardizer object, fit on training data, to standardize it\n",
    "sc = StandardScaler()\n",
    "\n",
    "X_train_stdz = sc.fit_transform(X_train)\n",
    "\n",
    "# Only standardize the test set data\n",
    "X_test_stdz = sc.transform(X_test)"
   ]
  },
  {
   "cell_type": "code",
   "execution_count": 56,
   "metadata": {},
   "outputs": [],
   "source": [
    "# sklearn feature selection\n",
    "\n",
    "from sklearn.ensemble import RandomForestClassifier\n",
    "from sklearn.feature_selection import SelectFromModel\n",
    "from sklearn.model_selection import train_test_split\n",
    "\n",
    "# Splitting data into train and test subsets first to avoid data leakage\n",
    "X_train, X_test, y_train, y_test = train_test_split(heart_disease_duplicates_dropped.drop('target', axis=1), heart_disease_duplicates_dropped['target'], test_size=0.2, random_state=42)\n"
   ]
  },
  {
   "cell_type": "code",
   "execution_count": 59,
   "metadata": {},
   "outputs": [],
   "source": [
    "# Assuming X_train is derived from heart_disease_duplicates_dropped and has the columns used for training\n",
    "# Define and fit the random forest model for feature selection to eliminate irrelevant features\n",
    "\n",
    "rf = RandomForestClassifier(n_jobs=-1, class_weight='balanced', max_depth=5)\n",
    "rf.fit(X_train, y_train)\n",
    "\n",
    "# Define and run feature selection\n",
    "model = SelectFromModel(rf, prefit=True)\n",
    "features_bool = model.get_support()\n",
    "\n",
    "# Apply the boolean mask to the correct set of columns (those used in X_train)\n",
    "features = X_train.columns[features_bool] # This approach ensures that the boolean mask features_bool is applied to the set of columns that were actually used for training the model, thus avoiding the dimension mismatch error."
   ]
  }
 ],
 "metadata": {
  "kernelspec": {
   "display_name": "Python 3",
   "language": "python",
   "name": "python3"
  },
  "language_info": {
   "codemirror_mode": {
    "name": "ipython",
    "version": 3
   },
   "file_extension": ".py",
   "mimetype": "text/x-python",
   "name": "python",
   "nbconvert_exporter": "python",
   "pygments_lexer": "ipython3",
   "version": "3.12.3"
  }
 },
 "nbformat": 4,
 "nbformat_minor": 2
}
